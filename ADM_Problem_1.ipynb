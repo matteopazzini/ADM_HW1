{
 "cells": [
  {
   "cell_type": "markdown",
   "id": "e03cce0a",
   "metadata": {},
   "source": [
    "Arithmetic Operators"
   ]
  },
  {
   "cell_type": "code",
   "execution_count": null,
   "id": "1972ddff",
   "metadata": {},
   "outputs": [],
   "source": [
    "if __name__ == '__main__':\n",
    "    a = int(input())\n",
    "    b = int(input())\n",
    "    \n",
    "print (a+b)\n",
    "print (a-b)\n",
    "print (a*b)    \n"
   ]
  },
  {
   "cell_type": "markdown",
   "id": "15ce2ba9",
   "metadata": {},
   "source": [
    "Python: Division"
   ]
  },
  {
   "cell_type": "code",
   "execution_count": null,
   "id": "1a223289",
   "metadata": {},
   "outputs": [],
   "source": [
    "if __name__ == '__main__':\n",
    "    a = int(input())\n",
    "    b = int(input())\n",
    "    \n",
    "print (a//b)\n",
    "print (a/b)    \n"
   ]
  },
  {
   "cell_type": "markdown",
   "id": "74862dce",
   "metadata": {},
   "source": [
    "Loops"
   ]
  },
  {
   "cell_type": "code",
   "execution_count": null,
   "id": "737a1f7f",
   "metadata": {},
   "outputs": [],
   "source": [
    "if __name__ == '__main__':\n",
    "    n = int(input())\n",
    "\n",
    "for i in range (0,n):\n",
    "    print (i*i)"
   ]
  },
  {
   "cell_type": "markdown",
   "id": "9182e902",
   "metadata": {},
   "source": [
    "Print function"
   ]
  },
  {
   "cell_type": "code",
   "execution_count": null,
   "id": "b6d17897",
   "metadata": {},
   "outputs": [],
   "source": [
    "if __name__ == '__main__':\n",
    "    n = int(input())\n",
    "\n",
    "    \n",
    "    for i in range (1,n+1):\n",
    "        print(i,end='')"
   ]
  },
  {
   "cell_type": "markdown",
   "id": "8bf213dd",
   "metadata": {},
   "source": [
    "Write a function"
   ]
  },
  {
   "cell_type": "code",
   "execution_count": null,
   "id": "4c1fa4fb",
   "metadata": {},
   "outputs": [],
   "source": [
    "def is_leap(year):\n",
    "    leap = False\n",
    "    if (year%4==0): leap = True\n",
    "    if (year%100==0) : leap = False \n",
    "    if (year%400==0) : leap =True\n",
    "    \n",
    "    return leap"
   ]
  },
  {
   "cell_type": "markdown",
   "id": "63e83e7a",
   "metadata": {},
   "source": [
    "Capitalize!"
   ]
  },
  {
   "cell_type": "code",
   "execution_count": null,
   "id": "9aeff865",
   "metadata": {},
   "outputs": [],
   "source": [
    "#!/bin/python3\n",
    "\n",
    "import math\n",
    "import os\n",
    "import random\n",
    "import re\n",
    "import sys\n",
    "\n",
    "# Complete the solve function below.\n",
    "def solve(s):\n",
    "    for i in s.split():\n",
    "        s = s.replace(i,i.capitalize())\n",
    "    return s\n",
    "\n",
    "if __name__ == '__main__':\n",
    "    fptr = open(os.environ['OUTPUT_PATH'], 'w')\n",
    "\n",
    "    s = input()\n",
    "\n",
    "    result = solve(s)\n",
    "\n",
    "    fptr.write(result + '\\n')\n",
    "\n",
    "    fptr.close()\n"
   ]
  },
  {
   "cell_type": "markdown",
   "id": "9477d6cb",
   "metadata": {},
   "source": [
    "Python If-Else"
   ]
  },
  {
   "cell_type": "code",
   "execution_count": null,
   "id": "38b52622",
   "metadata": {},
   "outputs": [],
   "source": [
    "#!/bin/python3\n",
    "\n",
    "import math\n",
    "import os\n",
    "import random\n",
    "import re\n",
    "import sys\n",
    "\n",
    "\n",
    "\n",
    "if __name__ == '__main__':\n",
    "    n = int(input().strip())\n",
    "\n",
    "    \n",
    "if (n%2==1): print(\"Weird\")\n",
    "elif (n in range (2,6) or n > 20): print(\"Not Weird\")   \n",
    "elif (n in range (6,21)): print(\"Weird\")\n"
   ]
  },
  {
   "cell_type": "markdown",
   "id": "a7455fa3",
   "metadata": {},
   "source": [
    "Say \"Hello, World!\" With Python"
   ]
  },
  {
   "cell_type": "code",
   "execution_count": null,
   "id": "2ac68ae6",
   "metadata": {},
   "outputs": [],
   "source": [
    "a_string = \"Hello, World!\"\n",
    "print (a_string)"
   ]
  },
  {
   "cell_type": "markdown",
   "id": "56d200c4",
   "metadata": {},
   "source": [
    "List comprehensions"
   ]
  },
  {
   "cell_type": "code",
   "execution_count": null,
   "id": "c480cf18",
   "metadata": {},
   "outputs": [],
   "source": [
    "if __name__ == '__main__':\n",
    "    x = int(input())\n",
    "    y = int(input())\n",
    "    z = int(input())\n",
    "    n = int(input())\n",
    "    \n",
    "\n",
    "    a_list=[[i,j,k] for i in range(x+1) for j in range(y+1) for k in range(z+1) if i+j+k!=n]\n",
    "    print(a_list)"
   ]
  },
  {
   "cell_type": "markdown",
   "id": "a9137f39",
   "metadata": {},
   "source": [
    "Nested Sets"
   ]
  },
  {
   "cell_type": "code",
   "execution_count": null,
   "id": "bd3fd2b9",
   "metadata": {
    "tags": []
   },
   "outputs": [],
   "source": [
    "\n",
    "\n",
    "a_list=[]\n",
    "b_list=[]\n",
    "record=[]\n",
    "\n",
    "if __name__ == '__main__':\n",
    "    for _ in range(int(input())):\n",
    "        name = input()\n",
    "        score = float(input())\n",
    "        a_list.append(name)\n",
    "        b_list.append(score)\n",
    "\n",
    "\n",
    "record_1 = [[name,score] for (name,score) in zip(a_list,b_list)]\n",
    "min_nested_list1 = min([p[1] for p in record_1])\n",
    "record_2 = [[name,score] for (name,score) in record_1 if score!=min_nested_list1]\n",
    "min_nested_list2 = min([p[1] for p in record_2])\n",
    "record_3 = [[name,score] for (name,score) in record_2 if score==min_nested_list2]\n",
    "sorted_record = sorted(record_3)\n",
    "for i in range(len(sorted_record)):\n",
    "    print (sorted_record[i][0])\n"
   ]
  },
  {
   "cell_type": "markdown",
   "id": "940066ab",
   "metadata": {},
   "source": [
    "Find the Runner-Up Score!"
   ]
  },
  {
   "cell_type": "code",
   "execution_count": null,
   "id": "63085576",
   "metadata": {},
   "outputs": [],
   "source": [
    "arr = []\n",
    "a_list=[i for i in arr]\n",
    "MAX = 0\n",
    "for i in a_list: \n",
    "    if (i>MAX): \n",
    "        MAX = i\n",
    "\n",
    "while MAX in a_list:\n",
    "    a_list.remove(MAX)\n",
    "\n",
    "print(max(a_list))"
   ]
  },
  {
   "cell_type": "markdown",
   "id": "948ea6ce",
   "metadata": {},
   "source": [
    "sWAP cASE"
   ]
  },
  {
   "cell_type": "code",
   "execution_count": null,
   "id": "aa6d842f",
   "metadata": {},
   "outputs": [],
   "source": [
    "def swap_case(s): \n",
    "    return (s.swapcase())"
   ]
  },
  {
   "cell_type": "markdown",
   "id": "e8710dbb",
   "metadata": {},
   "source": [
    "What's your name?"
   ]
  },
  {
   "cell_type": "code",
   "execution_count": null,
   "id": "a879c54f",
   "metadata": {},
   "outputs": [],
   "source": [
    "def print_full_name(first, last):\n",
    "    print (\"Hello \"+ first +\" \"+ last +\"! You just delved into python.\")\n",
    "    \n",
    "\n",
    "if __name__ == '__main__':\n",
    "    first_name = input()\n",
    "    last_name = input()\n",
    "    print_full_name(first_name, last_name)"
   ]
  },
  {
   "cell_type": "markdown",
   "id": "96a98ae8",
   "metadata": {},
   "source": [
    "Mutations"
   ]
  },
  {
   "cell_type": "code",
   "execution_count": null,
   "id": "f7f59be4",
   "metadata": {},
   "outputs": [],
   "source": [
    "def mutate_string(string, position, character): \n",
    "    ls=list(string)\n",
    "    ls[position]=character\n",
    "    string=''.join(ls)\n",
    "    return string\n",
    "\n",
    "if __name__ == '__main__':\n",
    "    s = input()\n",
    "    i, c = input().split()\n",
    "    s_new = mutate_string(s, int(i), c)\n",
    "    print(s_new)"
   ]
  },
  {
   "cell_type": "markdown",
   "id": "b216e7b7",
   "metadata": {},
   "source": [
    "String Split and Join"
   ]
  },
  {
   "cell_type": "code",
   "execution_count": null,
   "id": "5a0f7e29",
   "metadata": {},
   "outputs": [],
   "source": [
    "def split_and_join(line):\n",
    "    a = line.split(\" \")\n",
    "    a = \"-\".join(a)\n",
    "    return a\n",
    "    "
   ]
  },
  {
   "cell_type": "markdown",
   "id": "79bbde09",
   "metadata": {},
   "source": [
    "Find a string"
   ]
  },
  {
   "cell_type": "code",
   "execution_count": null,
   "id": "c387e747",
   "metadata": {},
   "outputs": [],
   "source": [
    "def count_substring(string, sub_string):\n",
    "    a=0\n",
    "    n=len(sub_string)\n",
    "    chunks = [string[i:i+n] for i in range(len(string))]\n",
    "    for i in chunks:\n",
    "        if (i==sub_string):\n",
    "            a=a+1\n",
    "    return a\n",
    "\n",
    "\n",
    "if __name__ == '__main__':\n",
    "    string = input().strip()\n",
    "    sub_string = input().strip()\n",
    "    \n",
    "    count = count_substring(string, sub_string)\n",
    "    print(count)"
   ]
  },
  {
   "cell_type": "markdown",
   "id": "6e522266",
   "metadata": {},
   "source": [
    "String validators"
   ]
  },
  {
   "cell_type": "code",
   "execution_count": null,
   "id": "37cdf0f4",
   "metadata": {},
   "outputs": [],
   "source": [
    "\n",
    "if __name__ == '__main__':\n",
    "    s = input()\n",
    "\n",
    "a=b=c=d=e=False\n",
    "\n",
    "for string_element in s:\n",
    "    if string_element.isalnum(): a=True\n",
    "    if string_element.isalpha(): b=True\n",
    "    if string_element.isdigit(): c=True\n",
    "    if string_element.islower(): d=True\n",
    "    if string_element.isupper(): e=True\n",
    "\n",
    "print(a)\n",
    "print(b)\n",
    "print(c)\n",
    "print(d)\n",
    "print(e)"
   ]
  },
  {
   "cell_type": "markdown",
   "id": "5ad9c622",
   "metadata": {},
   "source": [
    "Text Allignment"
   ]
  },
  {
   "cell_type": "code",
   "execution_count": null,
   "id": "bfd7d612",
   "metadata": {},
   "outputs": [],
   "source": [
    "#Replace all ______ with rjust, ljust or center. \n",
    "\n",
    "thickness = int(input()) #This must be an odd number\n",
    "c = 'H'\n",
    "\n",
    "#Top Cone\n",
    "for i in range(thickness):\n",
    "    print((c*i).rjust(thickness-1)+c+(c*i).ljust(thickness-1))\n",
    "\n",
    "#Top Pillars\n",
    "for i in range(thickness+1):\n",
    "    print((c*thickness).center(thickness*2)+(c*thickness).center(thickness*6))\n",
    "\n",
    "#Middle Belt\n",
    "for i in range((thickness+1)//2):\n",
    "    print((c*thickness*5).center(thickness*6))    \n",
    "\n",
    "#Bottom Pillars\n",
    "for i in range(thickness+1):\n",
    "    print((c*thickness).center(thickness*2)+(c*thickness).center(thickness*6))    \n",
    "\n",
    "#Bottom Cone\n",
    "for i in range(thickness):\n",
    "    print(((c*(thickness-i-1)).rjust(thickness)+c+(c*(thickness-i-1)).ljust(thickness)).rjust(thickness*6))"
   ]
  },
  {
   "cell_type": "markdown",
   "id": "1a1c861c",
   "metadata": {},
   "source": [
    "Text Wrap"
   ]
  },
  {
   "cell_type": "code",
   "execution_count": null,
   "id": "73fd4a9e",
   "metadata": {},
   "outputs": [],
   "source": [
    "import textwrap\n",
    "\n",
    "def wrap(string, max_width):\n",
    "    a=\"\"\n",
    "    for i in range(len(string)):\n",
    "        a += string[max_width*i:max_width*(i+1)] + \"\\n\"\n",
    "    return a\n",
    "\n",
    "if __name__ == '__main__':\n",
    "    string, max_width = input(), int(input())\n",
    "    result = wrap(string, max_width)\n",
    "    print(result)"
   ]
  },
  {
   "cell_type": "markdown",
   "id": "6337b3ea",
   "metadata": {},
   "source": [
    "Designer Door Mat"
   ]
  },
  {
   "cell_type": "code",
   "execution_count": null,
   "id": "99b18f44",
   "metadata": {},
   "outputs": [],
   "source": [
    "N, M = list(map(int,input().split())) \n",
    "\n",
    "a = '-'\n",
    "b = '.|.'\n",
    "\n",
    "\n",
    "for i in range(N//2):\n",
    "    print(a*((M//2-1)-3*i) + b*(2*i+1) + a*((M//2 -1)-3*i)) \n",
    "\n",
    "print(((M-7)//2)*a +'WELCOME'+ ((M-7)//2)*a) #By removing the fixed \"WELCOME\", we print the remainder strings \n",
    "\n",
    "for i in range(N//2-1,-1,-1):\n",
    "    print(a*((M//2-1)-3*i) + b*(2*i+1) + a*((M//2 -1)-3*i))"
   ]
  },
  {
   "cell_type": "markdown",
   "id": "03d1c219",
   "metadata": {},
   "source": [
    "String Formatting"
   ]
  },
  {
   "cell_type": "code",
   "execution_count": null,
   "id": "745b1948",
   "metadata": {},
   "outputs": [],
   "source": [
    "def print_formatted(number):\n",
    "    d = len(bin(number)[2:])\n",
    "    for i in range(1,n+1):\n",
    "        print(repr(i).rjust(d) +\" \"+ oct(i)[2:].rjust(d) +\" \"+ (hex(i).upper())[2:].rjust(d) +\" \"+ bin(i)[2:].rjust(d))\n",
    "    return\n",
    "if __name__ == '__main__':\n",
    "    n = int(input())\n",
    "    print_formatted(n)"
   ]
  },
  {
   "cell_type": "markdown",
   "id": "cfab6486",
   "metadata": {},
   "source": [
    "Rangoli"
   ]
  },
  {
   "cell_type": "code",
   "execution_count": null,
   "id": "de073420",
   "metadata": {},
   "outputs": [],
   "source": [
    "def print_rangoli(size):\n",
    "\n",
    "    alphabet = list(\"abcdefghijklmnopqrstuvwxyz\")\n",
    "    st = \"-\"\n",
    "    for i in range(n-1,-1,-1):\n",
    "        center = alphabet[i]\n",
    "        for j in range(i+1,n):\n",
    "            cen = alphabet[j]+'-'\n",
    "            center = cen + center + cen[::-1]\n",
    "        spaces = 2*i\n",
    "        print(spaces*st + center + spaces*st)\n",
    "\n",
    "    for i in range(1,n,1):\n",
    "        center = alphabet[i]\n",
    "        for j in range(i+1,n):\n",
    "            cen = alphabet[j]+'-'\n",
    "            center = cen + center + cen[::-1]\n",
    "        spaces = 2*i\n",
    "        print(spaces*st + center + spaces*st)\n",
    "    return\n",
    "\n",
    "if __name__ == '__main__':\n",
    "    n = int(input())\n",
    "    print_rangoli(n)"
   ]
  },
  {
   "cell_type": "markdown",
   "id": "58f06cc9",
   "metadata": {},
   "source": [
    "Capitalize!"
   ]
  },
  {
   "cell_type": "code",
   "execution_count": null,
   "id": "956ac0b7",
   "metadata": {},
   "outputs": [],
   "source": [
    "#!/bin/python3\n",
    "\n",
    "import math\n",
    "import os\n",
    "import random\n",
    "import re\n",
    "import sys\n",
    "\n",
    "# Complete the solve function below.\n",
    "def solve(s):\n",
    "    for i in s.split():\n",
    "        s = s.replace(i,i.capitalize())\n",
    "    return s\n",
    "\n",
    "if __name__ == '__main__':\n",
    "\n",
    "    s = input()\n",
    "\n",
    "    result = solve(s)\n",
    "    print(result)\n"
   ]
  },
  {
   "cell_type": "markdown",
   "id": "f0de1f84",
   "metadata": {},
   "source": [
    "The Minion Game"
   ]
  },
  {
   "cell_type": "code",
   "execution_count": null,
   "id": "88924b18",
   "metadata": {},
   "outputs": [],
   "source": [
    "def minion_game(string):   #Discussions panel used\n",
    "\n",
    "    vowels = (\"AEIOU\")\n",
    "    length = len(string)\n",
    "\n",
    "    for i in range(length):\n",
    "        if string[i] in vowels:\n",
    "            count_v += length - i\n",
    "        else:\n",
    "            count_c += length - i\n",
    "\n",
    "    if count_c > count_v: \n",
    "        print(\"Stuart\",count_c)\n",
    "    elif count_c < count_v:\n",
    "        print(\"Kevin\",count_v)    \n",
    "    else: \n",
    "        print(\"Draw\")    \n",
    "    return\n",
    "\n",
    "\n",
    "if __name__ == '__main__':\n",
    "    s = input()\n",
    "    minion_game(s)"
   ]
  },
  {
   "cell_type": "markdown",
   "id": "160e597b",
   "metadata": {},
   "source": [
    "Merge the Tools!"
   ]
  },
  {
   "cell_type": "code",
   "execution_count": null,
   "id": "e23386e0",
   "metadata": {},
   "outputs": [],
   "source": [
    "from collections import Counter\n",
    "\n",
    "def merge_the_tools(string, k):\n",
    "    blocks_list  =[]\n",
    "    for i in range(0,len(string),k):\n",
    "        blocks_list.append(string[i:(i+k)])\n",
    "\n",
    "    for elem in blocks_list:\n",
    "        a=\"\"\n",
    "        for sub in elem:\n",
    "            if sub not in a:\n",
    "                a+=sub\n",
    "        print(a)      \n",
    "    return\n",
    "\n",
    "if __name__ == '__main__':\n",
    "    string, k = input(), int(input())\n",
    "    merge_the_tools(string, k)"
   ]
  },
  {
   "cell_type": "markdown",
   "id": "7279fd33",
   "metadata": {},
   "source": [
    "Introduction to Sets"
   ]
  },
  {
   "cell_type": "code",
   "execution_count": null,
   "id": "9497704d",
   "metadata": {},
   "outputs": [],
   "source": [
    "def average(array):\n",
    "    new_set = set(array)\n",
    "    sum1 = sum(new_set)\n",
    "    avg = sum1/len(new_set)\n",
    "    return round(avg,3)\n",
    "\n",
    "\n",
    "if __name__ == '__main__':\n",
    "    n = int(input())\n",
    "    arr = list(map(int, input().split()))\n",
    "    result = average(arr)\n",
    "    print(result)"
   ]
  },
  {
   "cell_type": "markdown",
   "id": "7fc1e45b",
   "metadata": {},
   "source": [
    "Symmetric Difference"
   ]
  },
  {
   "cell_type": "code",
   "execution_count": null,
   "id": "a2d35c49",
   "metadata": {},
   "outputs": [],
   "source": [
    "if __name__ == '__main__':\n",
    "    M = input()\n",
    "    a_set = set(list(map(int, input().split())))\n",
    "    N = input()\n",
    "    b_set = set(list(map(int, input().split())))\n",
    "\n",
    "set1 = ((a_set.difference(b_set)).union(b_set.difference(a_set)))\n",
    "newlis = list(map(int, set1))\n",
    "newlis.sort()\n",
    "print (*newlis, sep=\"\\n\")\n"
   ]
  },
  {
   "cell_type": "markdown",
   "id": "8dfa26e2",
   "metadata": {},
   "source": [
    "No idea!"
   ]
  },
  {
   "cell_type": "code",
   "execution_count": null,
   "id": "de742a3a",
   "metadata": {},
   "outputs": [],
   "source": [
    "n, m = list(map(int, input().split()))\n",
    "arr = list(map(int, input().split()))\n",
    "A = set(map(int, input().split()))\n",
    "B = set(map(int, input().split()))\n",
    "i=0\n",
    "\n",
    "for element in arr:\n",
    "    if element in A:\n",
    "        i=i+1\n",
    "    if element in B:\n",
    "        i=i-1\n",
    "\n",
    "print(i)\n"
   ]
  },
  {
   "cell_type": "markdown",
   "id": "b33fc1ce",
   "metadata": {},
   "source": [
    "Set.add()"
   ]
  },
  {
   "cell_type": "code",
   "execution_count": null,
   "id": "36ad240a",
   "metadata": {},
   "outputs": [],
   "source": [
    "N = int(input())\n",
    "my_set=set()\n",
    "for i in range(N):\n",
    "    my_set.add(input())\n",
    "print(len(my_set))    "
   ]
  },
  {
   "cell_type": "markdown",
   "id": "50da1a0e",
   "metadata": {},
   "source": [
    "Set .discard(), .remove() & .pop()"
   ]
  },
  {
   "cell_type": "code",
   "execution_count": null,
   "id": "2a55f1e7",
   "metadata": {},
   "outputs": [],
   "source": [
    "n = int(input())\n",
    "s = set(map(int, input().split()))\n",
    "N = int(input())\n",
    "\n",
    "for i in range(N):\n",
    "    a_command= list(map(str, input().split()))\n",
    "    if a_command[0] == \"pop\":\n",
    "        s.pop()\n",
    "    if a_command[0] == \"discard\":\n",
    "        s.discard(int(a_command[1]))\n",
    "    if a_command[0] == \"remove\":\n",
    "        s.remove(int(a_command[1]))\n",
    "\n",
    "print(sum(s))"
   ]
  },
  {
   "cell_type": "markdown",
   "id": "0ba4bbd2",
   "metadata": {},
   "source": [
    "Set .union() Operation"
   ]
  },
  {
   "cell_type": "code",
   "execution_count": null,
   "id": "8922c8b8",
   "metadata": {},
   "outputs": [],
   "source": [
    "n_english = input()\n",
    "english_set = set(map(int, input().split()))\n",
    "n_french = input()\n",
    "french_set = set(map(int, input().split()))\n",
    "\n",
    "print(len(english_set.union(french_set)))"
   ]
  },
  {
   "cell_type": "markdown",
   "id": "723e65cf",
   "metadata": {},
   "source": [
    "Set .intersection() Operation"
   ]
  },
  {
   "cell_type": "code",
   "execution_count": null,
   "id": "4743a4a9",
   "metadata": {},
   "outputs": [],
   "source": [
    "n_english = input()\n",
    "english_set = set(map(int, input().split()))\n",
    "n_french = input()\n",
    "french_set = set(map(int, input().split()))\n",
    "\n",
    "print(len(english_set.intersection(french_set)))"
   ]
  },
  {
   "cell_type": "markdown",
   "id": "7cac9980",
   "metadata": {},
   "source": [
    "Set .difference() Operation"
   ]
  },
  {
   "cell_type": "code",
   "execution_count": null,
   "id": "a39f229a",
   "metadata": {},
   "outputs": [],
   "source": [
    "n_english = input()\n",
    "english_set = set(map(int, input().split()))\n",
    "n_french = input()\n",
    "french_set = set(map(int, input().split()))\n",
    "\n",
    "print(len(english_set.difference(french_set)))"
   ]
  },
  {
   "cell_type": "markdown",
   "id": "01ef79fe",
   "metadata": {},
   "source": [
    "Set .symmetric_difference() Operation"
   ]
  },
  {
   "cell_type": "code",
   "execution_count": null,
   "id": "b7bf279a",
   "metadata": {},
   "outputs": [],
   "source": [
    "n_english = input()\n",
    "english_set = set(map(int, input().split()))\n",
    "n_french = input()\n",
    "french_set = set(map(int, input().split()))\n",
    "\n",
    "print(len(english_set.symmetric_difference(french_set)))"
   ]
  },
  {
   "cell_type": "markdown",
   "id": "635f3c37",
   "metadata": {},
   "source": [
    "Set Mutations"
   ]
  },
  {
   "cell_type": "code",
   "execution_count": null,
   "id": "aac44788",
   "metadata": {},
   "outputs": [],
   "source": [
    "n_element_A = int(input())\n",
    "A_set = set(map(int, input().split()))\n",
    "N_other_sets= int(input())\n",
    "\n",
    "for i in range(N_other_sets):\n",
    "    entries = list(map(str, input().split()))\n",
    "    if entries[0] == \"intersection_update\":\n",
    "        New_set = set(map(int, input().split()))\n",
    "        A_set.intersection_update(New_set)\n",
    "    if entries[0] == \"update\":\n",
    "        New_set = set(map(int, input().split()))\n",
    "        A_set.update(New_set)\n",
    "    if entries[0] == \"symmetric_difference_update\":\n",
    "        New_set = set(map(int, input().split()))\n",
    "        A_set.symmetric_difference_update(New_set)\n",
    "    if entries[0] == \"difference_update\":\n",
    "        New_set = set(map(int, input().split()))\n",
    "        A_set.difference_update(New_set)\n",
    "        \n",
    "print(sum(A_set))"
   ]
  },
  {
   "cell_type": "markdown",
   "id": "99b8e9a1",
   "metadata": {},
   "source": [
    "The Captain's Room"
   ]
  },
  {
   "cell_type": "code",
   "execution_count": null,
   "id": "9f4e4b38",
   "metadata": {},
   "outputs": [],
   "source": [
    "\n",
    "group_size = int(input())\n",
    "A_list = input().split()\n",
    "A_set = set(A_list)\n",
    "\n",
    "for i in A_set:\n",
    "    A_list.remove(i)\n",
    "New_set = A_set.difference(set(A_list))\n",
    "print(New_set.pop())\n"
   ]
  },
  {
   "cell_type": "markdown",
   "id": "8a151299",
   "metadata": {},
   "source": [
    "Check Subset"
   ]
  },
  {
   "cell_type": "code",
   "execution_count": null,
   "id": "a2fe85cc",
   "metadata": {},
   "outputs": [],
   "source": [
    "N_test_cases = int(input())\n",
    "for i in range(1,N_test_cases+1):\n",
    "    n_A_set = input()\n",
    "    A_set = set(map(int, input().split()))\n",
    "    n_B_set = input()\n",
    "    B_set = set(map(int, input().split()))\n",
    "    if (A_set.union(B_set) == B_set):\n",
    "        print(True)\n",
    "    else: print(False)"
   ]
  },
  {
   "cell_type": "markdown",
   "id": "87774c8e",
   "metadata": {},
   "source": [
    "Check Strict Superset"
   ]
  },
  {
   "cell_type": "code",
   "execution_count": null,
   "id": "3a9bc175",
   "metadata": {},
   "outputs": [],
   "source": [
    "A_set = set(map(int, input().split()))\n",
    "N_test_cases = int(input())\n",
    "null_set = set()\n",
    "for i in range(N_test_cases):\n",
    "    New_set = set(map(int, input().split()))\n",
    "    if (A_set.issuperset(New_set) and (A_set.difference(New_set)!=null_set)):\n",
    "        check = True\n",
    "    else:\n",
    "        check = False\n",
    "        break\n",
    "print(check)"
   ]
  },
  {
   "cell_type": "markdown",
   "id": "b3be6539",
   "metadata": {},
   "source": [
    "Calendar Module"
   ]
  },
  {
   "cell_type": "code",
   "execution_count": null,
   "id": "cd4c95ee",
   "metadata": {},
   "outputs": [],
   "source": [
    "import calendar\n",
    "\n",
    "Date = list(map(int, input().split()))\n",
    "\n",
    "day = calendar.day_name[calendar.weekday(Date[2], Date[0], Date[1])]\n",
    "print(day.upper())"
   ]
  },
  {
   "cell_type": "markdown",
   "id": "b0dc40f6",
   "metadata": {},
   "source": [
    "Time Delta"
   ]
  },
  {
   "cell_type": "code",
   "execution_count": null,
   "id": "86f02450",
   "metadata": {},
   "outputs": [],
   "source": [
    "#!/bin/python3\n",
    "\n",
    "import math\n",
    "import os\n",
    "import random\n",
    "import re\n",
    "import sys\n",
    "\n",
    "from datetime import datetime\n",
    "from datetime import timedelta\n",
    "\n",
    "# Complete the time_delta function below.\n",
    "def time_delta(t1, t2):\n",
    "    t1_n = datetime.strptime(t1,\"%a %d %b %Y %H:%M:%S %z\")\n",
    "    t2_n = datetime.strptime(t2,\"%a %d %b %Y %H:%M:%S %z\")\n",
    "    delta = abs(t1_n-t2_n)\n",
    "    abs_diff = int(timedelta.total_seconds(delta))\n",
    "    return str(abs_diff)\n",
    "\n",
    "if __name__ == '__main__':\n",
    "    fptr = open(os.environ['OUTPUT_PATH'], 'w')\n",
    "\n",
    "    t = int(input())\n",
    "\n",
    "    for t_itr in range(t):\n",
    "        t1 = input()\n",
    "\n",
    "        t2 = input()\n",
    "\n",
    "        delta = time_delta(t1, t2)\n",
    "\n",
    "        fptr.write(delta + '\\n')\n",
    "\n",
    "    fptr.close()\n",
    "\n"
   ]
  },
  {
   "cell_type": "markdown",
   "id": "e7b74616",
   "metadata": {},
   "source": [
    "Exceptions"
   ]
  },
  {
   "cell_type": "code",
   "execution_count": null,
   "id": "70e34bf8",
   "metadata": {},
   "outputs": [],
   "source": [
    "N = int(input())\n",
    "from string import punctuation\n",
    "for i in range(N):\n",
    "    numbers=input().split()\n",
    "    special_char = set(punctuation)\n",
    "    try:\n",
    "        print(int(numbers[0])//int(numbers[1]))\n",
    "    except Exception as e:\n",
    "        print('Error Code: ' + str(e))\n"
   ]
  },
  {
   "cell_type": "markdown",
   "id": "c574e986",
   "metadata": {},
   "source": [
    "Map and Lambda Function"
   ]
  },
  {
   "cell_type": "code",
   "execution_count": null,
   "id": "2c913f9c",
   "metadata": {},
   "outputs": [],
   "source": [
    "\n",
    "cube = lambda x:x*x*x\n",
    "fib = []\n",
    "def fibonacci(n):\n",
    "    fib =[0,1]\n",
    "    num1 = 0\n",
    "    num2 = 1\n",
    "    next_number = num2\n",
    "    count = 1\n",
    "    if n < 0:\n",
    "        print(\"Incorrect input\")\n",
    "    elif n == 0:\n",
    "        return []\n",
    "    elif n == 1:\n",
    "        return [0]\n",
    "    elif n == 2:\n",
    "        return [0, 1]\n",
    "    else:\n",
    "        while count < n-1:\n",
    "            fib.append(next_number)\n",
    "            count += 1\n",
    "            num1, num2 = num2, next_number\n",
    "            next_number = num1 + num2\n",
    "        return fib\n",
    "\n",
    "if __name__ == '__main__':\n",
    "    n = int(input())\n",
    "    print(list(map(cube, fibonacci(n))))"
   ]
  },
  {
   "cell_type": "markdown",
   "id": "f70e03d7",
   "metadata": {},
   "source": [
    "Zipped!"
   ]
  },
  {
   "cell_type": "code",
   "execution_count": null,
   "id": "841277c8",
   "metadata": {},
   "outputs": [],
   "source": [
    "N,X =map(int,input().split())\n",
    "complete_list = []\n",
    "for i in range(X):\n",
    "    Subject = list(map(float, input().split()))\n",
    "    complete_list += [Subject]\n",
    "zipped_list = list(zip(*complete_list))\n",
    "\n",
    "average = [round((sum(i)/X),1) for i in zipped_list]\n",
    "for i in average:\n",
    "    print(i)\n"
   ]
  },
  {
   "cell_type": "markdown",
   "id": "f681fe04",
   "metadata": {},
   "source": [
    "Athlete Sort"
   ]
  },
  {
   "cell_type": "code",
   "execution_count": null,
   "id": "fd97b9c1",
   "metadata": {},
   "outputs": [],
   "source": [
    "N,M =map(int,input().split())\n",
    "complete_list = []\n",
    "for i in range(N):\n",
    "    elements = list(map(int, input().split()))\n",
    "    complete_list += [elements]\n",
    "K = int(input())\n",
    "\n",
    "sorted_K = sorted([attribute for attribute in complete_list],key = lambda x: x[K])\n",
    "for i in sorted_K:\n",
    "    print(*i)"
   ]
  },
  {
   "cell_type": "markdown",
   "id": "0c02763f",
   "metadata": {},
   "source": [
    "ginortS"
   ]
  },
  {
   "cell_type": "code",
   "execution_count": null,
   "id": "1d6c3409",
   "metadata": {},
   "outputs": [],
   "source": [
    "input_string = input()\n",
    "upper_list=sorted([i for i in input_string if i.isupper()==True])\n",
    "lower_list=sorted([i for i in input_string if i.islower()==True])\n",
    "odd_list=sorted([int(i) for i in input_string if i.isdigit() and int(i)%2==1])\n",
    "even_list=sorted([int(i) for i in input_string if i.isdigit() and int(i)%2==0])\n",
    "\n",
    "n_upper=\"\".join(upper_list)\n",
    "n_lower=\"\".join(lower_list)\n",
    "n_odd=\"\".join([str(n) for n in odd_list])\n",
    "n_even=\"\".join([str(n) for n in even_list])\n",
    "\n",
    "print(n_lower+n_upper+n_odd+n_even)\n"
   ]
  },
  {
   "cell_type": "markdown",
   "id": "68eaec87",
   "metadata": {},
   "source": [
    "Finding the percentage"
   ]
  },
  {
   "cell_type": "code",
   "execution_count": null,
   "id": "bb5e780b",
   "metadata": {},
   "outputs": [],
   "source": [
    "if __name__ == '__main__':\n",
    "    n = int(input())\n",
    "    student_marks = {}\n",
    "    for _ in range(n):\n",
    "        name, *line = input().split()\n",
    "        scores = list(map(float, line))\n",
    "        student_marks[name] = scores\n",
    "    query_name = input()\n",
    "grades = student_marks[query_name]\n",
    "print(\"{:.2f}\".format(sum(grades)/3))"
   ]
  },
  {
   "cell_type": "markdown",
   "id": "fea085f1",
   "metadata": {},
   "source": [
    "Lists"
   ]
  },
  {
   "cell_type": "code",
   "execution_count": null,
   "id": "60f9c615",
   "metadata": {},
   "outputs": [],
   "source": [
    "if __name__ == '__main__':\n",
    "    N = int(input())\n",
    "    my_list = []\n",
    "    for i in range(N):\n",
    "        a_command= list(map(str, input().split()))\n",
    "        if a_command[0] == \"insert\":\n",
    "            my_list.insert(int(a_command[1]),int(a_command[2]))\n",
    "        if a_command[0] == \"print\":\n",
    "            print(my_list)\n",
    "        if a_command[0] == \"remove\":\n",
    "            my_list.remove(int(a_command[1]))\n",
    "        if a_command[0] == \"append\":\n",
    "            my_list.append(int(a_command[1]))\n",
    "        if a_command[0] == \"sort\":\n",
    "            my_list.sort()\n",
    "        if a_command[0] == \"pop\":\n",
    "            my_list.pop()\n",
    "        if a_command[0] == \"reverse\":\n",
    "            my_list.reverse()\n",
    "\n",
    "    \n",
    "        "
   ]
  },
  {
   "cell_type": "markdown",
   "id": "d244ca1e",
   "metadata": {},
   "source": [
    "Tuples"
   ]
  },
  {
   "cell_type": "code",
   "execution_count": null,
   "id": "2b2e3235",
   "metadata": {},
   "outputs": [],
   "source": [
    "#select Pypy 3, since the output is different (Python 3 result = -3550055125485641917)\n",
    "if __name__ == '__main__':\n",
    "    n = int(input())\n",
    "    integer_list = map(int, input().split())\n",
    "    t = tuple(integer_list)\n",
    "    print(hash(t))"
   ]
  },
  {
   "cell_type": "markdown",
   "id": "efa4b205",
   "metadata": {},
   "source": [
    "collections.Counter()"
   ]
  },
  {
   "cell_type": "code",
   "execution_count": null,
   "id": "e65a283e",
   "metadata": {},
   "outputs": [],
   "source": [
    "from collections import Counter\n",
    "\n",
    "X = int(input())\n",
    "shoe_list = list(map(int,input().split()))\n",
    "N = int(input())\n",
    "\n",
    "shoe_counter = Counter(shoe_list)\n",
    "total_earned = int()\n",
    "\n",
    "for i in range(N):\n",
    "    size,price = map(int,input().split())\n",
    "    if (size in shoe_counter.keys() and shoe_counter[size]!=0):\n",
    "        total_earned+=price\n",
    "        shoe_counter[size]-=1\n",
    "        \n",
    "print(total_earned)    \n"
   ]
  },
  {
   "cell_type": "markdown",
   "id": "05e16723",
   "metadata": {},
   "source": [
    "DefaultDict Tutorial"
   ]
  },
  {
   "cell_type": "code",
   "execution_count": null,
   "id": "1ed4571d",
   "metadata": {},
   "outputs": [],
   "source": [
    "from collections import defaultdict\n",
    "\n",
    "n,m = map(int,input().split())\n",
    "\n",
    "groups = defaultdict(list)\n",
    "\n",
    "for i in range(1,n+1):\n",
    "    element = input()\n",
    "    groups[\"A\"].append(element)\n",
    "\n",
    "for i in range(1,m+1):\n",
    "    element = input()\n",
    "    groups[\"B\"].append(element)\n",
    "\n",
    "for element in groups[\"B\"]:\n",
    "    index = []\n",
    "    if element in groups[\"A\"]:\n",
    "        index.extend([a + 1 for a, b in enumerate(groups[\"A\"]) if b == element])\n",
    "        print(*index)\n",
    "    else:\n",
    "        print(-1)\n"
   ]
  },
  {
   "cell_type": "markdown",
   "id": "8ff0f3d4",
   "metadata": {},
   "source": [
    "Collections.namedtuple()"
   ]
  },
  {
   "cell_type": "code",
   "execution_count": null,
   "id": "45e7a1a7",
   "metadata": {},
   "outputs": [],
   "source": [
    "from collections import namedtuple\n",
    "\n",
    "N = int(input())\n",
    "columns = input().split()\n",
    "somma = 0\n",
    "Student = namedtuple(\"Student\",columns)\n",
    "for i in range(N):\n",
    "    somma += int(Student(*input().split()).MARKS)\n",
    "print(somma/N)"
   ]
  },
  {
   "cell_type": "markdown",
   "id": "68c706c9",
   "metadata": {},
   "source": [
    "Collections.OrderedDict()"
   ]
  },
  {
   "cell_type": "code",
   "execution_count": null,
   "id": "e8bacce9",
   "metadata": {},
   "outputs": [],
   "source": [
    "from collections import OrderedDict\n",
    "\n",
    "N = int(input())\n",
    "ordered_dictionary = OrderedDict()\n",
    "for i in range(N):\n",
    "    *items,price = input().split()\n",
    "    items = \" \".join(items)\n",
    "    if items in ordered_dictionary:\n",
    "        ordered_dictionary[items] += int(price)\n",
    "    else:\n",
    "        ordered_dictionary[items] = int(price)    \n",
    "\n",
    "for items, price in ordered_dictionary.items():\n",
    "    print(items, price)\n"
   ]
  },
  {
   "cell_type": "markdown",
   "id": "6bc28a53",
   "metadata": {},
   "source": [
    "Word Order"
   ]
  },
  {
   "cell_type": "code",
   "execution_count": null,
   "id": "b2e81674",
   "metadata": {},
   "outputs": [],
   "source": [
    "from collections import OrderedDict\n",
    "\n",
    "N = int(input())\n",
    "ord_dict = OrderedDict() \n",
    "for i in range(1,N+1):\n",
    "    word = input()\n",
    "    if word in ord_dict:\n",
    "        ord_dict[word] +=1\n",
    "    else:\n",
    "        ord_dict[word] = 1  \n",
    "\n",
    "\n",
    "print(len(ord_dict))\n",
    "\n",
    "for word in ord_dict:\n",
    "    print(ord_dict[word],end=\" \")\n",
    "   "
   ]
  },
  {
   "cell_type": "markdown",
   "id": "bc26b0c0",
   "metadata": {},
   "source": [
    "Collections.deque()"
   ]
  },
  {
   "cell_type": "code",
   "execution_count": null,
   "id": "97448244",
   "metadata": {},
   "outputs": [],
   "source": [
    "from collections import deque\n",
    "\n",
    "N = int(input())\n",
    "d=deque()\n",
    "\n",
    "for i in range(N):\n",
    "    com = list(input().split())\n",
    "    if com[0] == \"append\":\n",
    "        d.append(int(com[1]))\n",
    "    if com[0] == \"pop\":\n",
    "        d.pop()\n",
    "    if com[0] == \"popleft\":\n",
    "        d.popleft()\n",
    "    if com[0] == \"appendleft\":\n",
    "        d.appendleft(int(com[1]))\n",
    "\n",
    "print(*d,end=\"\")        "
   ]
  },
  {
   "cell_type": "markdown",
   "id": "ccdc5c1f",
   "metadata": {},
   "source": [
    "Piling Up!"
   ]
  },
  {
   "cell_type": "code",
   "execution_count": null,
   "id": "67d92699",
   "metadata": {},
   "outputs": [],
   "source": [
    "from collections import deque\n",
    "T = int(input())\n",
    "\n",
    "for i in range(T):\n",
    "    n = int(input())\n",
    "    len_blocks = list(map(int, input().split()))\n",
    "    d = deque(len_blocks)        #a deque with len_blocks iterable\n",
    "    max_value = max(d[0], d[-1])\n",
    "    sup_tp = max_value\n",
    "    while len(d) > 0 and max_value == sup_tp:\n",
    "        if d[0] > d[-1]:\n",
    "            max_value = d.popleft()\n",
    "        else:\n",
    "            max_value = d.pop()\n",
    "        if max_value <= sup_tp:\n",
    "            sup_tp = max_value\n",
    "\n",
    "    if len(d) == 0:\n",
    "        print('Yes')\n",
    "    else:\n",
    "        print('No')"
   ]
  },
  {
   "cell_type": "markdown",
   "id": "0e71a754",
   "metadata": {},
   "source": [
    "Company Logo"
   ]
  },
  {
   "cell_type": "code",
   "execution_count": null,
   "id": "2d30ab37",
   "metadata": {},
   "outputs": [],
   "source": [
    "#!/bin/python3\n",
    "\n",
    "import math\n",
    "import os\n",
    "import random\n",
    "import re\n",
    "import sys\n",
    "\n",
    "from collections import Counter\n",
    "\n",
    "def max_occ(s):\n",
    "\n",
    "    m_common = Counter(sorted(s)).most_common(3)\n",
    "    m_common_sorted = sorted(m_common,key=lambda x: x[1],reverse=True)\n",
    "    \n",
    "    for i in range(len(m_common_sorted)):\n",
    "            print(m_common_sorted[i][0],m_common_sorted[i][1])\n",
    "    return\n",
    "\n",
    "if __name__ == '__main__':\n",
    "    s = input()\n",
    "    max_occ(s)\n"
   ]
  },
  {
   "cell_type": "markdown",
   "id": "a0902b58",
   "metadata": {},
   "source": [
    "XML 1 - Find the Score"
   ]
  },
  {
   "cell_type": "code",
   "execution_count": null,
   "id": "150c064f",
   "metadata": {},
   "outputs": [],
   "source": [
    "import sys\n",
    "import xml.etree.ElementTree as etree\n",
    "\n",
    "def get_attr_number(node):\n",
    "    sum_attr = 0\n",
    "    sum_attr += len(node.attrib)\n",
    "    for el in node:\n",
    "        sum_attr += get_attr_number(el)\n",
    "    return sum_attr\n",
    "\n",
    "if __name__ == '__main__':\n",
    "    sys.stdin.readline()\n",
    "    xml = sys.stdin.read()\n",
    "    tree = etree.ElementTree(etree.fromstring(xml))\n",
    "    root = tree.getroot()\n",
    "    print(get_attr_number(root))"
   ]
  },
  {
   "cell_type": "markdown",
   "id": "a72fe075",
   "metadata": {},
   "source": [
    "XML2 - Find the Maximum Depth"
   ]
  },
  {
   "cell_type": "code",
   "execution_count": null,
   "id": "5c757a6a",
   "metadata": {},
   "outputs": [],
   "source": [
    "import xml.etree.ElementTree as etree\n",
    "\n",
    "maxdepth = 0\n",
    "def depth(elem, level):\n",
    "    global maxdepth\n",
    "    if (level == maxdepth):\n",
    "        maxdepth += 1\n",
    "    for child in elem:\n",
    "        depth(child, level + 1)\n",
    "    \n",
    "    \n",
    "if __name__ == '__main__':\n",
    "    n = int(input())\n",
    "    xml = \"\"\n",
    "    for i in range(n):\n",
    "        xml =  xml + input() + \"\\n\"\n",
    "    tree = etree.ElementTree(etree.fromstring(xml))\n",
    "    depth(tree.getroot(), -1)\n",
    "    print(maxdepth)"
   ]
  },
  {
   "cell_type": "markdown",
   "id": "ef8c0b9f",
   "metadata": {},
   "source": [
    "Standardize Mobile Number Using Decorators"
   ]
  },
  {
   "cell_type": "code",
   "execution_count": null,
   "id": "16c063f6",
   "metadata": {},
   "outputs": [],
   "source": [
    "def wrapper(f):\n",
    "    def fun(l):\n",
    "        f(['+91 {} {}'.format(x[-10:-5], x[-5:]) for x in l])\n",
    "    return fun\n",
    "\n",
    "@wrapper\n",
    "def sort_phone(l):\n",
    "    print(*sorted(l), sep='\\n')\n",
    "\n",
    "if __name__ == '__main__':\n",
    "    l = [input() for _ in range(int(input()))]\n",
    "    sort_phone(l) "
   ]
  },
  {
   "cell_type": "markdown",
   "id": "15f5fdda",
   "metadata": {},
   "source": [
    "Decorators 2 - Name Directory"
   ]
  },
  {
   "cell_type": "code",
   "execution_count": null,
   "id": "dfbad152",
   "metadata": {},
   "outputs": [],
   "source": [
    "import operator\n",
    "\n",
    "def person_lister(f):\n",
    "    def inner(people):\n",
    "        sorted_list = [f(person) for person in sorted(people, key=lambda x: int(x[2]))]\n",
    "        return sorted_list       \n",
    "    return inner\n",
    "\n",
    "@person_lister\n",
    "def name_format(person):\n",
    "    return (\"Mr. \" if person[3] == \"M\" else \"Ms. \") + person[0] + \" \" + person[1]\n",
    "\n",
    "if __name__ == '__main__':\n",
    "    people = [input().split() for i in range(int(input()))]\n",
    "    print(*name_format(people), sep='\\n')"
   ]
  },
  {
   "cell_type": "markdown",
   "id": "c7cb0917",
   "metadata": {},
   "source": [
    "Detect Floating Point Number"
   ]
  },
  {
   "cell_type": "code",
   "execution_count": null,
   "id": "b302a379",
   "metadata": {},
   "outputs": [],
   "source": [
    "import re\n",
    "\n",
    "T = int(input())\n",
    "for i in range(T):\n",
    "    floating_number = input()\n",
    "    if (floating_number==\"0\"): print(False)  \n",
    "    elif (re.search(\"^[-+]?(\\d+(\\.\\d*)?|\\.\\d+)([eE][-+]?\\d+)?$\", floating_number)): \n",
    "        print(True) \n",
    "    else: print(False)    "
   ]
  },
  {
   "cell_type": "markdown",
   "id": "89a9039f",
   "metadata": {},
   "source": [
    "Re.split()"
   ]
  },
  {
   "cell_type": "code",
   "execution_count": null,
   "id": "92c6f070",
   "metadata": {},
   "outputs": [],
   "source": [
    "regex_pattern = r\"\\W+\"\t# Do not delete 'r'.\n",
    "\n",
    "import re\n",
    "print(\"\\n\".join(re.split(regex_pattern, input())))"
   ]
  },
  {
   "cell_type": "markdown",
   "id": "91cf1ca6",
   "metadata": {},
   "source": [
    "Group(), Groups() & Groupdict()"
   ]
  },
  {
   "cell_type": "code",
   "execution_count": null,
   "id": "5fec095c",
   "metadata": {},
   "outputs": [],
   "source": [
    "import re\n",
    "\n",
    "regex_pattern = r'([a-zA-Z0-9])\\1+'\n",
    "string = input()\n",
    "m = re.search(regex_pattern,string)\n",
    "if  bool(m) == True:\n",
    "    pattern = m.groups()\n",
    "    print(*pattern)\n",
    "else: print(-1)   "
   ]
  },
  {
   "cell_type": "markdown",
   "id": "9189fc45",
   "metadata": {},
   "source": [
    "Re.findall() & Re.finditer()"
   ]
  },
  {
   "cell_type": "code",
   "execution_count": null,
   "id": "b6d98226",
   "metadata": {},
   "outputs": [],
   "source": [
    "import re\n",
    "\n",
    "regex_pattern = r'(?<=[qwrtypsdfghjklzxcvbnmQWRTYPSDFGHJKLZXCVBNM ])([aeiouAEIOU]{2,})(?=[qwrtypsdfghjklzxcvbnmQWRTYPSDFGHJKLZXCVBNM ])'\n",
    "string = input()\n",
    "m = re.findall(regex_pattern,string)\n",
    "if  bool(m) == True:\n",
    "    print(*m,sep=\"\\n\")\n",
    "else: print(-1)   "
   ]
  },
  {
   "cell_type": "markdown",
   "metadata": {},
   "source": [
    "Re.start() & Re.end()"
   ]
  },
  {
   "cell_type": "code",
   "execution_count": null,
   "id": "a8ffea9c",
   "metadata": {},
   "outputs": [],
   "source": [
    "import re\n",
    "\n",
    "string = input()\n",
    "regex_pattern =input()\n",
    "\n",
    "check = 0\n",
    "\n",
    "for i in range(len(string)):\n",
    "    m = re.findall(regex_pattern,string[i:i+len(regex_pattern)])\n",
    "    if m != []:\n",
    "        print((i,i+len(regex_pattern)-1))\n",
    "        check+=1\n",
    "\n",
    "if check == 0:\n",
    "    print((-1,-1))  \n",
    "        "
   ]
  },
  {
   "cell_type": "markdown",
   "id": "76cda3a1",
   "metadata": {},
   "source": [
    "Regex Substitution"
   ]
  },
  {
   "cell_type": "code",
   "execution_count": null,
   "id": "16b45e4b",
   "metadata": {},
   "outputs": [],
   "source": [
    "import re\n",
    "\n",
    "regex_pattern_1 = r'(?<!\\S)[\\&]{2}(?!\\S)'\n",
    "regex_pattern_2 = r'(?<!\\S)[\\|]{2}(?!\\S)'\n",
    "N = int(input())\n",
    "for i in range(N):\n",
    "    string = input()\n",
    "    m1 = re.findall(regex_pattern_1,string)\n",
    "    m2 = re.findall(regex_pattern_2,string)\n",
    "    if bool(m1) == True and bool(m2) == True:\n",
    "        string = re.sub(regex_pattern_1,'and',string)\n",
    "        string = re.sub(regex_pattern_2,'or',string)\n",
    "        print(string)\n",
    "    elif bool(m1) == True:\n",
    "        print(re.sub(regex_pattern_1,'and',string))\n",
    "    elif bool(m2) == True:\n",
    "        print(re.sub(regex_pattern_2,'or',string))\n",
    "    else: \n",
    "        print(string)"
   ]
  },
  {
   "cell_type": "markdown",
   "id": "cb423a65",
   "metadata": {},
   "source": [
    "Validating Roman Numerals"
   ]
  },
  {
   "cell_type": "code",
   "execution_count": null,
   "id": "f674db75",
   "metadata": {},
   "outputs": [],
   "source": [
    "regex_pattern = r\"^M{0,3}(CM|CD|D?C{0,3})(XC|XL|L?X{0,3})(IX|IV|V?I{0,3})$\"\t\n",
    "\n",
    "import re\n",
    "print(str(bool(re.match(regex_pattern, input()))))"
   ]
  },
  {
   "cell_type": "markdown",
   "id": "19649525",
   "metadata": {},
   "source": [
    "Validating phone numbers"
   ]
  },
  {
   "cell_type": "code",
   "execution_count": null,
   "id": "4f346db8",
   "metadata": {},
   "outputs": [],
   "source": [
    "import re\n",
    "\n",
    "N = int(input())\n",
    "regex_pattern = r'^[7-9][^\\W]{9}$'\n",
    "\n",
    "for i in range(N):\n",
    "    stringa = input()\n",
    "    if bool(re.match(regex_pattern, stringa)) == True:\n",
    "        print(\"YES\")\n",
    "    else: \n",
    "        print(\"NO\")\n"
   ]
  },
  {
   "cell_type": "markdown",
   "id": "a7517de6",
   "metadata": {},
   "source": [
    "Validating and Parsing Email Addresses"
   ]
  },
  {
   "cell_type": "code",
   "execution_count": null,
   "id": "11b0b756",
   "metadata": {},
   "outputs": [],
   "source": [
    "\n",
    "import re\n",
    "\n",
    "n = int(input())\n",
    "\n",
    "regex_pattern = r'^<([a-zA-Z][\\w._-]+\\@[a-zA-Z]+\\.[a-zA-Z]{1,3})>$'\n",
    "\n",
    "for i in range (n):\n",
    "    name_,address_ = map(str,input().split())\n",
    "    check = bool(re.match(regex_pattern,address_))\n",
    "    if check==True:\n",
    "        print(name_,address_)\n"
   ]
  },
  {
   "cell_type": "markdown",
   "id": "d0ffde7c",
   "metadata": {},
   "source": [
    "Hex Color Code"
   ]
  },
  {
   "cell_type": "code",
   "execution_count": null,
   "id": "8eb2414a",
   "metadata": {},
   "outputs": [],
   "source": [
    "import re\n",
    "\n",
    "N = int(input())\n",
    "\n",
    "regex_pattern = r'#[0-9A-Fa-f]{6}(?=[;,)])|#[0-9A-Fa-f]{3}(?=[;,)])'\n",
    "\n",
    "input_hex = []\n",
    "\n",
    "for i in range (N):\n",
    "    hex_col = input()\n",
    "    input_hex += [hex_col]\n",
    "\n",
    "input_string = \"\".join(input_hex)\n",
    "m = re.findall(regex_pattern,input_string)\n",
    "for hex in m:\n",
    "    print(hex)"
   ]
  },
  {
   "cell_type": "markdown",
   "id": "417a2b31",
   "metadata": {},
   "source": [
    "HTML Parser - Part 1"
   ]
  },
  {
   "cell_type": "code",
   "execution_count": null,
   "id": "cb2b15a5",
   "metadata": {},
   "outputs": [],
   "source": [
    "from html.parser import HTMLParser\n",
    "\n",
    "class MyHTMLParser(HTMLParser):\n",
    "    def handle_starttag(self, tag, attrs):\n",
    "        print (\"Start :\",tag)\n",
    "        for attr in attrs:\n",
    "            print(\"->\",attr[0],\">\",attr[1])\n",
    "    def handle_endtag(self,tag):\n",
    "        print (\"End   :\",tag)\n",
    "    def handle_startendtag(self, tag, attrs):\n",
    "        print (\"Empty :\",tag)\n",
    "        for attr in attrs:\n",
    "            print(\"->\",attr[0],\">\",attr[1])\n",
    "\n",
    "html_list = []\n",
    "N = int(input())\n",
    "for i in range(N):\n",
    "    strings = input()\n",
    "    html_list.append(strings)\n",
    "\n",
    "html_string = \"\".join(html_list)\n",
    "parser = MyHTMLParser()\n",
    "parser.feed(html_string)"
   ]
  },
  {
   "cell_type": "markdown",
   "id": "6f2497cc",
   "metadata": {},
   "source": [
    "HTML Parser - Part 2"
   ]
  },
  {
   "cell_type": "code",
   "execution_count": null,
   "id": "3cf75cb2",
   "metadata": {},
   "outputs": [],
   "source": [
    "from html.parser import HTMLParser\n",
    "\n",
    "class MyHTMLParser(HTMLParser): \n",
    "    def handle_data(self, data):\n",
    "        if data != \"\\n\":\n",
    "            print (\">>> Data\")\n",
    "            print(data)\n",
    "\n",
    "    def handle_comment(self, data):\n",
    "        if \"\\n\" in data:\n",
    "            print(\">>> Multi-line Comment\")\n",
    "            print(data)\n",
    "        else:\n",
    "            print(\">>> Single-line Comment\")\n",
    "            print(data)\n",
    "\n",
    "html = \"\"\n",
    "    \n",
    "for i in range(int(input())):\n",
    "    html += input().rstrip()\n",
    "    html += '\\n'\n",
    "    \n",
    "parser = MyHTMLParser()\n",
    "parser.feed(html)\n",
    "parser.close()\n"
   ]
  },
  {
   "cell_type": "markdown",
   "id": "eb04e476",
   "metadata": {},
   "source": [
    "Detect HTML Tags, Attributes and Attribute Values"
   ]
  },
  {
   "cell_type": "code",
   "execution_count": null,
   "id": "4168d922",
   "metadata": {},
   "outputs": [],
   "source": [
    "from html.parser import HTMLParser\n",
    "\n",
    "class MyHTMLParser(HTMLParser):\n",
    "    def handle_starttag(self, tag, attrs):\n",
    "        print (tag)\n",
    "        for attr in attrs:\n",
    "            print(\"->\",attr[0],\">\",attr[1])\n",
    "    def handle_startendtag(self, tag, attrs):\n",
    "        print (tag)\n",
    "        for attr in attrs:\n",
    "            print(\"->\",attr[0],\">\",attr[1])\n",
    "\n",
    "html_list = []\n",
    "N = int(input())\n",
    "for i in range(N):\n",
    "    strings = input()\n",
    "    html_list.append(strings)\n",
    "\n",
    "html_string = \"\".join(html_list)\n",
    "parser = MyHTMLParser()\n",
    "parser.feed(html_string)"
   ]
  },
  {
   "cell_type": "markdown",
   "id": "0f126b7a",
   "metadata": {},
   "source": [
    "Validating UID "
   ]
  },
  {
   "cell_type": "code",
   "execution_count": null,
   "id": "74e9d4fa",
   "metadata": {},
   "outputs": [],
   "source": [
    "import re\n",
    "\n",
    "T = int(input())\n",
    "\n",
    "regex_pattern =r'^(?=(?:[a-z\\d]*[A-Z]){2})(?=(?:\\D*\\d){3,})(?:([a-zA-Z\\d])(?!.*\\1)){10}$'\n",
    "\n",
    "for i in range (T):\n",
    "    string = input()\n",
    "    check = bool(re.search(regex_pattern,string))\n",
    "    if check==True:\n",
    "        print(\"Valid\")\n",
    "    else:\n",
    "        print(\"Invalid\")   "
   ]
  },
  {
   "cell_type": "markdown",
   "id": "883093a0",
   "metadata": {},
   "source": [
    "Validating Credit Card Numbers"
   ]
  },
  {
   "cell_type": "code",
   "execution_count": null,
   "id": "f5fc49bf",
   "metadata": {},
   "outputs": [],
   "source": [
    "import re\n",
    "\n",
    "T = int(input())\n",
    "\n",
    "regex_pattern =r'^[456](?!.*(\\d)(?:-?\\1){3})(\\d{3}-?\\d{4}-?\\d{4}-?\\d{4})$'\n",
    "\n",
    "for i in range (T):\n",
    "    string = input()\n",
    "    check = bool(re.search(regex_pattern,string))\n",
    "    if check==True:\n",
    "        print(\"Valid\")\n",
    "    else:\n",
    "        print(\"Invalid\")   "
   ]
  },
  {
   "cell_type": "markdown",
   "id": "04f28b77",
   "metadata": {},
   "source": [
    "Validating Postal Codes"
   ]
  },
  {
   "cell_type": "code",
   "execution_count": null,
   "id": "9fdd80c2",
   "metadata": {},
   "outputs": [],
   "source": [
    "regex_integer_in_range = r\"^[\\d]{6}$\"\t# Do not delete 'r'.\n",
    "regex_alternating_repetitive_digit_pair = r\"(\\d)(?=\\d\\1)\"\t# Do not delete 'r'.\n",
    "\n",
    "\n",
    "import re\n",
    "P = input()\n",
    "\n",
    "print (bool(re.match(regex_integer_in_range, P)) \n",
    "and len(re.findall(regex_alternating_repetitive_digit_pair, P)) < 2)"
   ]
  },
  {
   "cell_type": "markdown",
   "id": "6274dd5c",
   "metadata": {},
   "source": [
    "Matrix Script"
   ]
  },
  {
   "cell_type": "code",
   "execution_count": null,
   "id": "9e7859ac",
   "metadata": {},
   "outputs": [],
   "source": [
    "#!/bin/python3\n",
    "\n",
    "import math\n",
    "import os\n",
    "import random\n",
    "import re\n",
    "import sys\n",
    "\n",
    "import re\n",
    "\n",
    "regex_pattern = r'(?<=[0-9a-zA-Z])([!@#$%&\\s]+)(?=[0-9a-zA-Z])'\n",
    "\n",
    "first_multiple_input = input().rstrip().split()\n",
    "\n",
    "n = int(first_multiple_input[0])\n",
    "\n",
    "m = int(first_multiple_input[1])\n",
    "\n",
    "matrix = []\n",
    "matrix_list = []\n",
    "\n",
    "for _ in range(n):\n",
    "    matrix_item = input()\n",
    "    matrix.append(matrix_item)\n",
    "    \n",
    "for j in range(m):\n",
    "    for i in range(n):\n",
    "        matrix_list += matrix[i][j]\n",
    "\n",
    "matrix_string = \"\".join(matrix_list)\n",
    "matrix_output = re.sub(regex_pattern,' ', matrix_string)\n",
    "print(matrix_output)"
   ]
  },
  {
   "cell_type": "markdown",
   "id": "c21273dd",
   "metadata": {},
   "source": [
    "Arrays"
   ]
  },
  {
   "cell_type": "code",
   "execution_count": null,
   "id": "4659f710",
   "metadata": {},
   "outputs": [],
   "source": [
    "import numpy\n",
    "\n",
    "def arrays(arr):\n",
    "    num_list = numpy.array(arr,float)\n",
    "    return num_list[::-1]\n",
    "\n",
    "arr = input().strip().split(' ')\n",
    "result = arrays(arr)\n",
    "print(result)"
   ]
  },
  {
   "cell_type": "markdown",
   "id": "5e8fcc6e",
   "metadata": {},
   "source": [
    "Shape and Reshape"
   ]
  },
  {
   "cell_type": "code",
   "execution_count": null,
   "id": "2f84cda5",
   "metadata": {},
   "outputs": [],
   "source": [
    "import numpy as np\n",
    "\n",
    "arr = input().strip().split()\n",
    "\n",
    "np_array = np.reshape(np.array(arr,int),(3,3))\n",
    "\n",
    "print(np_array)\n"
   ]
  },
  {
   "cell_type": "markdown",
   "id": "ff1cf6db",
   "metadata": {},
   "source": [
    "Transpose and Flatten"
   ]
  },
  {
   "cell_type": "code",
   "execution_count": null,
   "id": "fefa6f6e",
   "metadata": {},
   "outputs": [],
   "source": [
    "import numpy as np\n",
    "\n",
    "N,M = map(int,input().split())\n",
    "n_array=([])\n",
    "\n",
    "for i in range (N):\n",
    "    arr = list(map(int,input().split()))\n",
    "    n_array = np.append(n_array,arr)\n",
    "\n",
    "np_array = np.reshape(np.array(n_array,int),(N,M))\n",
    "flat_array = np_array.flatten()\n",
    "\n",
    "print(np.transpose(np_array))\n",
    "print(flat_array)\n"
   ]
  },
  {
   "cell_type": "markdown",
   "id": "81859056",
   "metadata": {},
   "source": [
    "Concatenate"
   ]
  },
  {
   "cell_type": "code",
   "execution_count": null,
   "id": "da37b5cd",
   "metadata": {},
   "outputs": [],
   "source": [
    "import numpy as np\n",
    "\n",
    "N,M,P = map(int,input().split())\n",
    "n_array=([])\n",
    "m_array=([])\n",
    "\n",
    "for i in range (N):\n",
    "    arr = list(map(int,input().split()))\n",
    "    n_array = np.append(n_array,arr)\n",
    "\n",
    "\n",
    "for i in range (M):\n",
    "    arr = list(map(int,input().split()))\n",
    "    m_array = np.append(m_array,arr)\n",
    "\n",
    "\n",
    "print(np.reshape(np.concatenate((np.array(n_array,int), np.array(m_array,int))),(N+M,P)))"
   ]
  },
  {
   "cell_type": "markdown",
   "id": "26b5fc38",
   "metadata": {},
   "source": [
    "Zeros and Ones"
   ]
  },
  {
   "cell_type": "code",
   "execution_count": null,
   "id": "90927dfa",
   "metadata": {},
   "outputs": [],
   "source": [
    "import numpy as np \n",
    "\n",
    "data_ = list(map(int,input().split()))\n",
    "\n",
    "print(np.zeros(data_,dtype=int))\n",
    "print(np.ones(data_,dtype=int))\n",
    "\n"
   ]
  },
  {
   "cell_type": "markdown",
   "id": "90d157f7",
   "metadata": {},
   "source": [
    "Eye and Identity"
   ]
  },
  {
   "cell_type": "code",
   "execution_count": null,
   "id": "465aac3f",
   "metadata": {},
   "outputs": [],
   "source": [
    "import numpy\n",
    "numpy.set_printoptions(legacy='1.13')\n",
    "\n",
    "N,M = map(int,input().split())\n",
    "\n",
    "print(numpy.eye(N,M,k=0))"
   ]
  },
  {
   "cell_type": "markdown",
   "id": "8a998e4b",
   "metadata": {},
   "source": [
    "Array Mathematics"
   ]
  },
  {
   "cell_type": "code",
   "execution_count": null,
   "id": "0b45de6b",
   "metadata": {},
   "outputs": [],
   "source": [
    "import numpy as np\n",
    "\n",
    "N,M = map(int,input().split())\n",
    "\n",
    "mat1 =[]\n",
    "mat2 =[]\n",
    "\n",
    "for i in range(N):\n",
    "    data_ = list(map(int,input().split()))\n",
    "    mat1 = mat1 + [data_]\n",
    "\n",
    "a = np.array(mat1)\n",
    "\n",
    "for i in range(N):\n",
    "    data_ = list(map(int,input().split()))\n",
    "    mat2 = mat2 + [data_]\n",
    "\n",
    "b = np.array(mat2)\n",
    "\n",
    "\n",
    "print(a+b)\n",
    "print(a-b)\n",
    "print(a*b)\n",
    "print(a//b)\n",
    "print(a%b)\n",
    "print(a**b)\n",
    "\n",
    "\n"
   ]
  },
  {
   "cell_type": "markdown",
   "id": "9dc13cf1",
   "metadata": {},
   "source": [
    "Floor, Ceil and Rint"
   ]
  },
  {
   "cell_type": "code",
   "execution_count": null,
   "id": "0030649e",
   "metadata": {},
   "outputs": [],
   "source": [
    "import numpy as np\n",
    "np.set_printoptions(legacy='1.13')\n",
    "\n",
    "data_ = list(map(float,input().split()))\n",
    "array=np.array(data_)\n",
    "\n",
    "print(np.floor(array))\n",
    "print(np.ceil(array))\n",
    "print(np.rint(array))"
   ]
  },
  {
   "cell_type": "markdown",
   "id": "8290432b",
   "metadata": {},
   "source": [
    "Sum and Prod"
   ]
  },
  {
   "cell_type": "code",
   "execution_count": null,
   "id": "c5f61d43",
   "metadata": {},
   "outputs": [],
   "source": [
    "import numpy as np\n",
    "\n",
    "N,M = map(int,input().split())\n",
    "\n",
    "mat = []\n",
    "\n",
    "for i in range(N):\n",
    "    data_ = list(map(int,input().split()))\n",
    "    mat = mat + [data_]\n",
    "\n",
    "a = np.array(mat)\n",
    "\n",
    "axis0_sum = np.sum(a,axis=0)\n",
    "print(np.prod(axis0_sum))"
   ]
  },
  {
   "cell_type": "markdown",
   "id": "9f52f0b4",
   "metadata": {},
   "source": [
    "Min and Max"
   ]
  },
  {
   "cell_type": "code",
   "execution_count": null,
   "id": "2a61ff8f",
   "metadata": {},
   "outputs": [],
   "source": [
    "import numpy as np\n",
    "\n",
    "N,M = map(int,input().split())\n",
    "\n",
    "mat = []\n",
    "\n",
    "for i in range(N):\n",
    "    data_ = list(map(int,input().split()))\n",
    "    mat = mat + [data_]\n",
    "\n",
    "a = np.array(mat)\n",
    "\n",
    "axis1_min = np.min(a,axis=1)\n",
    "print(np.max(axis1_min))"
   ]
  },
  {
   "cell_type": "markdown",
   "id": "44bae0b6",
   "metadata": {},
   "source": [
    "Mean, Var, and Std"
   ]
  },
  {
   "cell_type": "code",
   "execution_count": null,
   "id": "49dc0c96",
   "metadata": {},
   "outputs": [],
   "source": [
    "import numpy as np\n",
    "\n",
    "N,M = map(int,input().split())\n",
    "\n",
    "mat = []\n",
    "\n",
    "for i in range(N):\n",
    "    data_ = list(map(int,input().split()))\n",
    "    mat = mat + [data_]\n",
    "\n",
    "a = np.array(mat)\n",
    "\n",
    "axis1_mean = np.mean(a,axis=1)\n",
    "axis0_var = np.var(a,axis=0)\n",
    "axis1_std = np.std(a,axis=None)\n",
    "\n",
    "print(axis1_mean)\n",
    "print(axis0_var)\n",
    "print(round(axis1_std,11))\n"
   ]
  },
  {
   "cell_type": "markdown",
   "id": "368797db",
   "metadata": {},
   "source": [
    "Dot and Cross"
   ]
  },
  {
   "cell_type": "code",
   "execution_count": null,
   "id": "41cfcb9a",
   "metadata": {},
   "outputs": [],
   "source": [
    "import numpy as np\n",
    "\n",
    "N = int(input())\n",
    "\n",
    "mat1 =[]\n",
    "mat2 =[]\n",
    "\n",
    "for i in range(N):\n",
    "    data_ = list(map(int,input().split()))\n",
    "    mat1 = mat1 + [data_]\n",
    "\n",
    "A = np.array(mat1)\n",
    "\n",
    "for i in range(N):\n",
    "    data_ = list(map(int,input().split()))\n",
    "    mat2 = mat2 + [data_]\n",
    "\n",
    "B = np.array(mat2)\n",
    "\n",
    "print(A.dot(B))"
   ]
  },
  {
   "cell_type": "markdown",
   "id": "7ea6c445",
   "metadata": {},
   "source": [
    "Inner and Outer"
   ]
  },
  {
   "cell_type": "code",
   "execution_count": null,
   "id": "1721d429",
   "metadata": {},
   "outputs": [],
   "source": [
    "import numpy as np\n",
    "\n",
    "\n",
    "data_1 = list(map(int,input().split()))\n",
    "A = np.array(data_1)\n",
    "\n",
    "data_2 = list(map(int,input().split()))\n",
    "B = np.array(data_2)\n",
    "\n",
    "print(np.inner(A,B))\n",
    "print(np.outer(A,B))"
   ]
  },
  {
   "cell_type": "markdown",
   "id": "b886c8f2",
   "metadata": {},
   "source": [
    "Polynomials"
   ]
  },
  {
   "cell_type": "code",
   "execution_count": null,
   "id": "892deafc",
   "metadata": {},
   "outputs": [],
   "source": [
    "import numpy as np\n",
    "\n",
    "data_ = list(map(float,input().split()))\n",
    "coeff = np.array(data_)\n",
    "x = float(input())\n",
    "print(np.polyval(coeff,x))"
   ]
  },
  {
   "cell_type": "markdown",
   "id": "7247382e",
   "metadata": {},
   "source": [
    "Linear Algebra"
   ]
  },
  {
   "cell_type": "code",
   "execution_count": null,
   "id": "0ddc5651",
   "metadata": {},
   "outputs": [],
   "source": [
    "import numpy as np\n",
    "\n",
    "mat =[]\n",
    "\n",
    "N = int(input())\n",
    "\n",
    "for i in range(N):\n",
    "    data_ = list(map(float,input().split()))\n",
    "    mat = mat + [data_]\n",
    "\n",
    "A = np.array(mat)\n",
    "\n",
    "print(round(np.linalg.det(A),2))"
   ]
  }
 ],
 "metadata": {
  "kernelspec": {
   "display_name": "Python 3 (ipykernel)",
   "language": "python",
   "name": "python3"
  },
  "language_info": {
   "codemirror_mode": {
    "name": "ipython",
    "version": 3
   },
   "file_extension": ".py",
   "mimetype": "text/x-python",
   "name": "python",
   "nbconvert_exporter": "python",
   "pygments_lexer": "ipython3",
   "version": "3.11.5"
  }
 },
 "nbformat": 4,
 "nbformat_minor": 5
}
